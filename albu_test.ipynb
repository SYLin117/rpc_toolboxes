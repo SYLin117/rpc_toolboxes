{
 "cells": [
  {
   "cell_type": "code",
   "execution_count": 2,
   "metadata": {
    "collapsed": true
   },
   "outputs": [
    {
     "name": "stderr",
     "output_type": "stream",
     "text": [
      "UsageError: Line magic function `%` not found.\n"
     ]
    }
   ],
   "source": [
    "import albumentations as A\n",
    "import cv2\n",
    "import matplotlib.pyplot as plt\n",
    "import numpy as np\n",
    "\n",
    "plt.rcParams['figure.figsize'] = [15, 15]\n",
    "% matplotlib inline"
   ]
  },
  {
   "cell_type": "code",
   "execution_count": 3,
   "outputs": [],
   "source": [
    "image = cv2.cvtColor(cv2.imread('test_image2.jpg'), cv2.COLOR_BGR2RGB)\n",
    "image = cv2.resize(image, (750, 750))"
   ],
   "metadata": {
    "collapsed": false,
    "pycharm": {
     "name": "#%%\n"
    }
   }
  },
  {
   "cell_type": "code",
   "execution_count": 16,
   "outputs": [],
   "source": [
    "p1 = 0.95\n",
    "p2 = 0.85\n",
    "p3 = 0.75\n",
    "transform = A.Compose([\n",
    "    # A.RandomRotate90(p=p2),\n",
    "    # A.OneOf([\n",
    "    #     # A.IAAAdditiveGaussianNoise(p=0.9),\n",
    "    #     A.GaussNoise(p=1),\n",
    "    # ], p=p3),\n",
    "    # A.RGBShift(g_shift_limit=30, r_shift_limit=30, b_shift_limit=30, always_apply=True),\n",
    "    # A.HueSaturationValue(hue_shift_limit=5,sat_shift_limit=5,val_shift_limit=(-30, -0),always_apply=True),\n",
    "    # A.CLAHE(),\n",
    "    # A.MedianBlur(blur_limit=3),\n",
    "    # A.ISONoise(p=1),\n",
    "    A.GaussNoise(p=1)\n",
    "    # A.RandomBrightnessContrast(brightness_limit=0.2, contrast_limit=0.2, always_apply=True),\n",
    "    # A.ShiftScaleRotate(shift_limit=0.0625,\n",
    "    #                      scale_limit=0.1,\n",
    "    #                      rotate_limit=90,\n",
    "    #                      interpolation=cv2.INTER_CUBIC,\n",
    "    #                      always_apply=True)\n",
    "])\n",
    "transformed = transform(image=image)\n",
    "transformed_image = transformed['image']\n",
    "show_img = cv2.hconcat((image, transformed_image))\n",
    "show_img = cv2.cvtColor(show_img, cv2.COLOR_RGB2BGR)\n",
    "cv2.imshow('win', show_img)\n",
    "cv2.waitKey(0)\n",
    "cv2.destroyAllWindows()"
   ],
   "metadata": {
    "collapsed": false,
    "pycharm": {
     "name": "#%%\n"
    }
   }
  },
  {
   "cell_type": "code",
   "execution_count": 15,
   "outputs": [],
   "source": [],
   "metadata": {
    "collapsed": false,
    "pycharm": {
     "name": "#%%\n"
    }
   }
  },
  {
   "cell_type": "code",
   "execution_count": null,
   "outputs": [],
   "source": [],
   "metadata": {
    "collapsed": false,
    "pycharm": {
     "name": "#%%\n"
    }
   }
  }
 ],
 "metadata": {
  "kernelspec": {
   "display_name": "Python 3",
   "language": "python",
   "name": "python3"
  },
  "language_info": {
   "codemirror_mode": {
    "name": "ipython",
    "version": 2
   },
   "file_extension": ".py",
   "mimetype": "text/x-python",
   "name": "python",
   "nbconvert_exporter": "python",
   "pygments_lexer": "ipython2",
   "version": "2.7.6"
  }
 },
 "nbformat": 4,
 "nbformat_minor": 0
}